{
 "cells": [
  {
   "cell_type": "code",
   "execution_count": 11,
   "metadata": {},
   "outputs": [],
   "source": [
    "import random\n",
    "import numpy as np\n",
    "import tensorflow as tf\n",
    "import csv\n",
    "import itertools\n",
    "import matplotlib.pyplot as plt\n",
    "from tensorflow.keras.preprocessing.sequence import pad_sequences"
   ]
  },
  {
   "cell_type": "code",
   "execution_count": 3,
   "metadata": {},
   "outputs": [],
   "source": [
    "# Bước 1: Đọc và xử lý dữ liệu gốc\n",
    "raw_data = []\n",
    "file_path = r\"C:\\Users\\LOAN\\Downloads\\RPS\\Rock_Paper_Scissors_Raw.csv\"\n",
    "with open(file_path, 'r') as f:\n",
    "    reader = csv.reader(f)\n",
    "    for row in reader:\n",
    "        raw_data.append(row)\n",
    "\n",
    "game_data = []\n",
    "current_game_id = None\n",
    "current_game = []\n",
    "\n",
    "for r in raw_data:\n",
    "    if len(r) < 4:\n",
    "        continue\n",
    "    try:\n",
    "        r2, r3 = int(r[2]), int(r[3])\n",
    "    except ValueError:\n",
    "        continue\n",
    "    if r2 == 0 or r3 == 0:\n",
    "        continue\n",
    "    if current_game_id != r[0]:\n",
    "        if current_game:\n",
    "            game_data.append(current_game)\n",
    "        current_game_id = r[0]\n",
    "        current_game = []\n",
    "    current_game.append((r2, r3))\n",
    "if current_game:\n",
    "    game_data.append(current_game)"
   ]
  },
  {
   "cell_type": "code",
   "execution_count": 4,
   "metadata": {},
   "outputs": [],
   "source": [
    "# Bước 2: Sinh dữ liệu mô phỏng\n",
    "game_data_simulated = []\n",
    "r_move = lambda: random.choice((1, 2, 3))\n",
    "\n",
    "for length, num_games in [(1, 1000), (2, 500), (3, 150), (4, 50)]:\n",
    "    for moves in itertools.product((1, 2, 3), repeat=length):\n",
    "        for _ in range(num_games):\n",
    "            simulated_game = []\n",
    "            for move in moves:\n",
    "                simulated_game.extend((move, r_move()) for _ in range(random.randint(3, 20 - length)))\n",
    "            game_data_simulated.append(simulated_game)"
   ]
  },
  {
   "cell_type": "code",
   "execution_count": 5,
   "metadata": {},
   "outputs": [],
   "source": [
    "# Bước 3: One-hot encoding dữ liệu\n",
    "def enc_game(game, invert=False):\n",
    "    game_enc = [[0] * 6]\n",
    "    for p1, p2 in game:\n",
    "        if not (1 <= p1 <= 3 and 1 <= p2 <= 3):\n",
    "            raise ValueError(f\"Invalid moves: {p1}, {p2}\")\n",
    "        if invert:\n",
    "            p1, p2 = p2, p1\n",
    "        game_enc.append([0] * 6)\n",
    "        game_enc[-1][p1 - 1] = 1\n",
    "        game_enc[-1][p2 - 1 + 3] = 1\n",
    "    return game_enc\n",
    "\n",
    "game_data_one_hot = []\n",
    "for game in game_data:\n",
    "    for invert in (True, False):\n",
    "        game_data_one_hot.append(enc_game(game, invert=invert))\n",
    "for game in game_data_simulated:\n",
    "    game_data_one_hot.append(enc_game(game))"
   ]
  },
  {
   "cell_type": "code",
   "execution_count": 6,
   "metadata": {},
   "outputs": [],
   "source": [
    "# Bước 4: Chuẩn bị dữ liệu huấn luyện\n",
    "X = [game[:-1] for game in game_data_one_hot]\n",
    "Y = [[move[:3] for move in game[1:]] for game in game_data_one_hot]\n",
    "\n",
    "X_np = [np.array(x).astype(np.float32) for x in X]\n",
    "Y_np = [np.array(y).astype(np.float32) for y in Y]\n",
    "\n",
    "# Padding dữ liệu\n",
    "X_padded = pad_sequences(X_np, padding='post', dtype='float32')\n",
    "Y_padded = pad_sequences(Y_np, padding='post', dtype='float32')\n",
    "\n",
    "dataset = tf.data.Dataset.from_tensor_slices((X_padded, Y_padded))\n"
   ]
  },
  {
   "cell_type": "code",
   "execution_count": 7,
   "metadata": {},
   "outputs": [],
   "source": [
    "# Bước 5: Tách tập dữ liệu\n",
    "test_size = 2000\n",
    "dev_size = 2000\n",
    "dataset = dataset.shuffle(100000)\n",
    "test_dataset = dataset.take(test_size)\n",
    "dev_dataset = dataset.skip(test_size).take(dev_size)\n",
    "train_dataset = dataset.skip(test_size + dev_size)"
   ]
  },
  {
   "cell_type": "code",
   "execution_count": 8,
   "metadata": {},
   "outputs": [
    {
     "name": "stderr",
     "output_type": "stream",
     "text": [
      "c:\\Users\\LOAN\\anaconda3\\Lib\\site-packages\\keras\\src\\layers\\rnn\\rnn.py:204: UserWarning: Do not pass an `input_shape`/`input_dim` argument to a layer. When using Sequential models, prefer using an `Input(shape)` object as the first layer in the model instead.\n",
      "  super().__init__(**kwargs)\n"
     ]
    }
   ],
   "source": [
    "# Bước 6: Xây dựng mô hình RNN\n",
    "model = tf.keras.Sequential([\n",
    "    tf.keras.layers.SimpleRNN(128, input_shape=(None, 6), return_sequences=True),\n",
    "    tf.keras.layers.Dense(3, activation='softmax')\n",
    "])\n",
    "\n",
    "model.compile(\n",
    "    optimizer=tf.keras.optimizers.Adam(learning_rate=0.001),\n",
    "    loss='categorical_crossentropy',\n",
    "    metrics=['accuracy']\n",
    ")"
   ]
  },
  {
   "cell_type": "code",
   "execution_count": 13,
   "metadata": {},
   "outputs": [
    {
     "name": "stdout",
     "output_type": "stream",
     "text": [
      "Epoch 1/10\n",
      "\u001b[1m5711/5711\u001b[0m \u001b[32m━━━━━━━━━━━━━━━━━━━━\u001b[0m\u001b[37m\u001b[0m \u001b[1m81s\u001b[0m 14ms/step - accuracy: 0.9474 - loss: 0.0853 - val_accuracy: 0.9547 - val_loss: 0.0766\n",
      "Epoch 2/10\n",
      "\u001b[1m5711/5711\u001b[0m \u001b[32m━━━━━━━━━━━━━━━━━━━━\u001b[0m\u001b[37m\u001b[0m \u001b[1m132s\u001b[0m 23ms/step - accuracy: 0.9479 - loss: 0.0851 - val_accuracy: 0.9544 - val_loss: 0.0763\n",
      "Epoch 3/10\n",
      "\u001b[1m5711/5711\u001b[0m \u001b[32m━━━━━━━━━━━━━━━━━━━━\u001b[0m\u001b[37m\u001b[0m \u001b[1m118s\u001b[0m 21ms/step - accuracy: 0.9489 - loss: 0.0852 - val_accuracy: 0.9542 - val_loss: 0.0770\n",
      "Epoch 4/10\n",
      "\u001b[1m5711/5711\u001b[0m \u001b[32m━━━━━━━━━━━━━━━━━━━━\u001b[0m\u001b[37m\u001b[0m \u001b[1m164s\u001b[0m 29ms/step - accuracy: 0.9471 - loss: 0.0852 - val_accuracy: 0.9549 - val_loss: 0.0759\n",
      "Epoch 5/10\n",
      "\u001b[1m5711/5711\u001b[0m \u001b[32m━━━━━━━━━━━━━━━━━━━━\u001b[0m\u001b[37m\u001b[0m \u001b[1m162s\u001b[0m 28ms/step - accuracy: 0.9483 - loss: 0.0854 - val_accuracy: 0.9545 - val_loss: 0.0763\n",
      "Epoch 6/10\n",
      "\u001b[1m5711/5711\u001b[0m \u001b[32m━━━━━━━━━━━━━━━━━━━━\u001b[0m\u001b[37m\u001b[0m \u001b[1m163s\u001b[0m 28ms/step - accuracy: 0.9495 - loss: 0.0849 - val_accuracy: 0.9542 - val_loss: 0.0768\n",
      "Epoch 7/10\n",
      "\u001b[1m5711/5711\u001b[0m \u001b[32m━━━━━━━━━━━━━━━━━━━━\u001b[0m\u001b[37m\u001b[0m \u001b[1m165s\u001b[0m 29ms/step - accuracy: 0.9474 - loss: 0.0852 - val_accuracy: 0.9542 - val_loss: 0.0775\n",
      "Epoch 8/10\n",
      "\u001b[1m5711/5711\u001b[0m \u001b[32m━━━━━━━━━━━━━━━━━━━━\u001b[0m\u001b[37m\u001b[0m \u001b[1m168s\u001b[0m 29ms/step - accuracy: 0.9475 - loss: 0.0851 - val_accuracy: 0.9548 - val_loss: 0.0757\n",
      "Epoch 9/10\n",
      "\u001b[1m5711/5711\u001b[0m \u001b[32m━━━━━━━━━━━━━━━━━━━━\u001b[0m\u001b[37m\u001b[0m \u001b[1m155s\u001b[0m 27ms/step - accuracy: 0.9481 - loss: 0.0851 - val_accuracy: 0.9546 - val_loss: 0.0769\n",
      "Epoch 10/10\n",
      "\u001b[1m5711/5711\u001b[0m \u001b[32m━━━━━━━━━━━━━━━━━━━━\u001b[0m\u001b[37m\u001b[0m \u001b[1m79s\u001b[0m 14ms/step - accuracy: 0.9424 - loss: 0.0852 - val_accuracy: 0.9544 - val_loss: 0.0765\n"
     ]
    }
   ],
   "source": [
    "# Bước 7: Huấn luyện mô hình\n",
    "batch_size = 32\n",
    "history = model.fit(\n",
    "    train_dataset.batch(batch_size),\n",
    "    validation_data=dev_dataset.batch(batch_size),\n",
    "    epochs=10\n",
    ")"
   ]
  },
  {
   "cell_type": "code",
   "execution_count": 16,
   "metadata": {},
   "outputs": [
    {
     "data": {
      "image/png": "[encoded data removed]",
      "text/plain": [
       "<Figure size 640x480 with 1 Axes>"
      ]
     },
     "metadata": {},
     "output_type": "display_data"
    }
   ],
   "source": [
    "fig1 = plt.gcf()\n",
    "plt.plot(history.history['accuracy'])\n",
    "plt.plot(history.history['val_accuracy'])\n",
    "plt.ylim(0.4, 1)  # Đặt giới hạn cho trục y\n",
    "plt.grid()\n",
    "plt.title('Model Accuracy')\n",
    "plt.ylabel('Accuracy')\n",
    "plt.xlabel('Epochs')\n",
    "plt.legend(['train', 'validation'])\n",
    "plt.show()"
   ]
  },
  {
   "cell_type": "code",
   "execution_count": 17,
   "metadata": {},
   "outputs": [
    {
     "name": "stdout",
     "output_type": "stream",
     "text": [
      "\u001b[1m63/63\u001b[0m \u001b[32m━━━━━━━━━━━━━━━━━━━━\u001b[0m\u001b[37m\u001b[0m \u001b[1m1s\u001b[0m 8ms/step - accuracy: 0.9542 - loss: 0.0762\n",
      "Test Loss: 0.07594112306833267, Test Accuracy: 0.9546054005622864\n"
     ]
    }
   ],
   "source": [
    "test_loss, test_accuracy = model.evaluate(test_dataset.batch(batch_size))\n",
    "print(f\"Test Loss: {test_loss}, Test Accuracy: {test_accuracy}\")"
   ]
  },
  {
   "cell_type": "code",
   "execution_count": 19,
   "metadata": {},
   "outputs": [
    {
     "name": "stderr",
     "output_type": "stream",
     "text": [
      "WARNING:absl:You are saving your model as an HDF5 file via `model.save()` or `keras.saving.save_model(model)`. This file format is considered legacy. We recommend using instead the native Keras format, e.g. `model.save('my_model.keras')` or `keras.saving.save_model(model, 'my_model.keras')`. \n"
     ]
    }
   ],
   "source": [
    "model.save(r\"C:\\Users\\LOAN\\Downloads\\RPS\\rps_rnn.h5\")"
   ]
  },
  {
   "cell_type": "code",
   "execution_count": null,
   "metadata": {},
   "outputs": [],
   "source": []
  }
 ],
 "metadata": {
  "kernelspec": {
   "display_name": "Python (CPLEX)",
   "language": "python",
   "name": "python_cplex"
  },
  "language_info": {
   "codemirror_mode": {
    "name": "ipython",
    "version": 3
   },
   "file_extension": ".py",
   "mimetype": "text/x-python",
   "name": "python",
   "nbconvert_exporter": "python",
   "pygments_lexer": "ipython3",
   "version": "3.12.4"
  }
 },
 "nbformat": 4,
 "nbformat_minor": 2
}
